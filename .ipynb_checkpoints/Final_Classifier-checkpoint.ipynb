{
 "cells": [
  {
   "cell_type": "code",
   "execution_count": 2,
   "metadata": {
    "collapsed": false
   },
   "outputs": [],
   "source": [
    "#loading the .csv file into an SFrame\n",
    "import graphlab\n",
    "import pandas\n",
    "products_pd=pandas.read_csv('training-samples.csv',quotechar='\"',encoding='utf-16')\n",
    "\n",
    "\n",
    "#doing the necessary changes to the dataset\n",
    "\n",
    "products_pd.loc[products_pd['gender']=='plus size' , 'gender'] ='womens'#'plus size' is incorporated into 'womens'\n",
    "pd=products_pd.fillna(value='None')\n",
    "products=graphlab.SFrame(data=pd)#converting pandas.dataframe to SFrame\n",
    "products=products[products['gender']!='kids']#kids is removed from dataset\n",
    "products=products[products['gender']!='None']#none is removed from dataset\n",
    "products=products[products['gender']!='boys']#boys is removed from dataset\n",
    "products=products[products['gender']!='baby girls']#baby girls is removed from dataset\n",
    "products=products[products['gender']!='baby boys']#baby boys is removed from dataset"
   ]
  },
  {
   "cell_type": "code",
   "execution_count": 3,
   "metadata": {
    "collapsed": false
   },
   "outputs": [],
   "source": [
    "#function to remove punctuation from all text\n",
    "def remove_punc(str):\n",
    "    import string\n",
    "    return str.translate(None, string.punctuation)\n",
    "\n",
    "#function to remove numbers from all text\n",
    "def remove_numbers(str):\n",
    "    import string\n",
    "    return str.translate(None, string.digits) \n",
    "    \n",
    "features=['category','sub_category','sub_sub_category','description','gender','title']"
   ]
  },
  {
   "cell_type": "code",
   "execution_count": 4,
   "metadata": {
    "collapsed": false
   },
   "outputs": [],
   "source": [
    "#pre-processing of the training data\n",
    "\n",
    "#removing numbers and punctuation from text\n",
    "for f in features:\n",
    "    products[f]=products[f].apply(remove_punc)\n",
    "    products[f]=products[f].apply(remove_numbers)\n",
    "    \n",
    "#develop wordcount column by concatenating 'description' and 'title'\n",
    "products['wordcount'] = graphlab.text_analytics.count_words(products['description']+products['title'])\n",
    "\n",
    "#exclude stopwords count\n",
    "products['wordcount'] = products['wordcount'].dict_trim_by_keys(graphlab.text_analytics.stopwords(), exclude=True)\n",
    "\n",
    "#keep only words whose count >=2\n",
    "products['wordcount'] = products['wordcount'].dict_trim_by_values(2)\n"
   ]
  },
  {
   "cell_type": "code",
   "execution_count": null,
   "metadata": {
    "collapsed": true
   },
   "outputs": [],
   "source": [
    "#obtaining train and validation data from the training set\n",
    "\n",
    "train_data,test_data = products.random_split(.8, seed=0)"
   ]
  },
  {
   "cell_type": "code",
   "execution_count": null,
   "metadata": {
    "collapsed": false
   },
   "outputs": [
    {
     "data": {
      "text/html": [
       "<pre>Logistic regression:</pre>"
      ],
      "text/plain": [
       "Logistic regression:"
      ]
     },
     "metadata": {},
     "output_type": "display_data"
    },
    {
     "data": {
      "text/html": [
       "<pre>--------------------------------------------------------</pre>"
      ],
      "text/plain": [
       "--------------------------------------------------------"
      ]
     },
     "metadata": {},
     "output_type": "display_data"
    },
    {
     "data": {
      "text/html": [
       "<pre>Number of examples          : 5615</pre>"
      ],
      "text/plain": [
       "Number of examples          : 5615"
      ]
     },
     "metadata": {},
     "output_type": "display_data"
    },
    {
     "data": {
      "text/html": [
       "<pre>Number of classes           : 5</pre>"
      ],
      "text/plain": [
       "Number of classes           : 5"
      ]
     },
     "metadata": {},
     "output_type": "display_data"
    },
    {
     "data": {
      "text/html": [
       "<pre>Number of feature columns   : 4</pre>"
      ],
      "text/plain": [
       "Number of feature columns   : 4"
      ]
     },
     "metadata": {},
     "output_type": "display_data"
    },
    {
     "data": {
      "text/html": [
       "<pre>Number of unpacked features : 4475</pre>"
      ],
      "text/plain": [
       "Number of unpacked features : 4475"
      ]
     },
     "metadata": {},
     "output_type": "display_data"
    },
    {
     "data": {
      "text/html": [
       "<pre>Number of coefficients    : 18596</pre>"
      ],
      "text/plain": [
       "Number of coefficients    : 18596"
      ]
     },
     "metadata": {},
     "output_type": "display_data"
    },
    {
     "data": {
      "text/html": [
       "<pre>Starting Accelerated Gradient (FISTA)</pre>"
      ],
      "text/plain": [
       "Starting Accelerated Gradient (FISTA)"
      ]
     },
     "metadata": {},
     "output_type": "display_data"
    },
    {
     "data": {
      "text/html": [
       "<pre>--------------------------------------------------------</pre>"
      ],
      "text/plain": [
       "--------------------------------------------------------"
      ]
     },
     "metadata": {},
     "output_type": "display_data"
    },
    {
     "data": {
      "text/html": [
       "<pre>+-----------+----------+-----------+--------------+-------------------+---------------------+</pre>"
      ],
      "text/plain": [
       "+-----------+----------+-----------+--------------+-------------------+---------------------+"
      ]
     },
     "metadata": {},
     "output_type": "display_data"
    },
    {
     "data": {
      "text/html": [
       "<pre>| Iteration | Passes   | Step size | Elapsed Time | Training-accuracy | Validation-accuracy |</pre>"
      ],
      "text/plain": [
       "| Iteration | Passes   | Step size | Elapsed Time | Training-accuracy | Validation-accuracy |"
      ]
     },
     "metadata": {},
     "output_type": "display_data"
    },
    {
     "data": {
      "text/html": [
       "<pre>+-----------+----------+-----------+--------------+-------------------+---------------------+</pre>"
      ],
      "text/plain": [
       "+-----------+----------+-----------+--------------+-------------------+---------------------+"
      ]
     },
     "metadata": {},
     "output_type": "display_data"
    },
    {
     "data": {
      "text/html": [
       "<pre>Tuning step size. First iteration could take longer than subsequent iterations.</pre>"
      ],
      "text/plain": [
       "Tuning step size. First iteration could take longer than subsequent iterations."
      ]
     },
     "metadata": {},
     "output_type": "display_data"
    },
    {
     "data": {
      "text/html": [
       "<pre>| 1         | 2        | 0.000089  | 1.813151     | 0.840962          | 0.816716            |</pre>"
      ],
      "text/plain": [
       "| 1         | 2        | 0.000089  | 1.813151     | 0.840962          | 0.816716            |"
      ]
     },
     "metadata": {},
     "output_type": "display_data"
    },
    {
     "data": {
      "text/html": [
       "<pre>| 2         | 3        | 0.000089  | 2.092878     | 0.874087          | 0.846774            |</pre>"
      ],
      "text/plain": [
       "| 2         | 3        | 0.000089  | 2.092878     | 0.874087          | 0.846774            |"
      ]
     },
     "metadata": {},
     "output_type": "display_data"
    },
    {
     "data": {
      "text/html": [
       "<pre>| 3         | 4        | 0.000089  | 2.399857     | 0.886198          | 0.846774            |</pre>"
      ],
      "text/plain": [
       "| 3         | 4        | 0.000089  | 2.399857     | 0.886198          | 0.846774            |"
      ]
     },
     "metadata": {},
     "output_type": "display_data"
    },
    {
     "data": {
      "text/html": [
       "<pre>| 4         | 5        | 0.000089  | 2.649863     | 0.893500          | 0.851173            |</pre>"
      ],
      "text/plain": [
       "| 4         | 5        | 0.000089  | 2.649863     | 0.893500          | 0.851173            |"
      ]
     },
     "metadata": {},
     "output_type": "display_data"
    },
    {
     "data": {
      "text/html": [
       "<pre>| 5         | 6        | 0.000089  | 2.884240     | 0.913446          | 0.865103            |</pre>"
      ],
      "text/plain": [
       "| 5         | 6        | 0.000089  | 2.884240     | 0.913446          | 0.865103            |"
      ]
     },
     "metadata": {},
     "output_type": "display_data"
    },
    {
     "data": {
      "text/html": [
       "<pre>| 6         | 7        | 0.000089  | 3.118618     | 0.917364          | 0.868768            |</pre>"
      ],
      "text/plain": [
       "| 6         | 7        | 0.000089  | 3.118618     | 0.917364          | 0.868768            |"
      ]
     },
     "metadata": {},
     "output_type": "display_data"
    },
    {
     "data": {
      "text/html": [
       "<pre>| 10        | 11       | 0.000089  | 3.892882     | 0.923063          | 0.874633            |</pre>"
      ],
      "text/plain": [
       "| 10        | 11       | 0.000089  | 3.892882     | 0.923063          | 0.874633            |"
      ]
     },
     "metadata": {},
     "output_type": "display_data"
    },
    {
     "data": {
      "text/html": [
       "<pre>| 11        | 12       | 0.000089  | 4.049133     | 0.923598          | 0.873900            |</pre>"
      ],
      "text/plain": [
       "| 11        | 12       | 0.000089  | 4.049133     | 0.923598          | 0.873900            |"
      ]
     },
     "metadata": {},
     "output_type": "display_data"
    },
    {
     "data": {
      "text/html": [
       "<pre>| 15        | 16       | 0.000089  | 4.681070     | 0.922529          | 0.867302            |</pre>"
      ],
      "text/plain": [
       "| 15        | 16       | 0.000089  | 4.681070     | 0.922529          | 0.867302            |"
      ]
     },
     "metadata": {},
     "output_type": "display_data"
    },
    {
     "data": {
      "text/html": [
       "<pre>| 20        | 21       | 0.000089  | 5.418605     | 0.925200          | 0.867302            |</pre>"
      ],
      "text/plain": [
       "| 20        | 21       | 0.000089  | 5.418605     | 0.925200          | 0.867302            |"
      ]
     },
     "metadata": {},
     "output_type": "display_data"
    },
    {
     "data": {
      "text/html": [
       "<pre>| 25        | 26       | 0.000089  | 6.114615     | 0.926091          | 0.872434            |</pre>"
      ],
      "text/plain": [
       "| 25        | 26       | 0.000089  | 6.114615     | 0.926091          | 0.872434            |"
      ]
     },
     "metadata": {},
     "output_type": "display_data"
    }
   ],
   "source": [
    "#developing the logistic classifier model\n",
    "\n",
    "logistic_classifier_model = graphlab.logistic_classifier.create(train_data,\n",
    "                                    target='gender',\n",
    "                                    features=['wordcount','category','sub_category','sub_sub_category'],\n",
    "                                    validation_set=test_data, l1_penalty=30, l2_penalty=30, max_iterations=50)"
   ]
  },
  {
   "cell_type": "code",
   "execution_count": null,
   "metadata": {
    "collapsed": false
   },
   "outputs": [],
   "source": [
    "#loading the test set and cleaning it\n",
    "\n",
    "test=graphlab.SFrame.read_json('test_dataset.jsonl', orient ='lines')\n",
    "\n",
    "test=test[test['gender']!='baby boys']#none is removed from dataset\n",
    "test=test[test['gender']!='baby girls']#none is removed from dataset\n",
    "test=test[test['gender']!='boys']#none is removed from dataset"
   ]
  },
  {
   "cell_type": "code",
   "execution_count": null,
   "metadata": {
    "collapsed": true
   },
   "outputs": [],
   "source": [
    "#pre-processing test dataset\n",
    "\n",
    "for f in features:\n",
    "    test[f]=test[f].apply(remove_punc)\n",
    "    test[f]=test[f].apply(remove_numbers)\n",
    "    \n",
    "test['wordcount'] = graphlab.text_analytics.count_words(test['description']+test['title'])\n",
    "\n",
    "test['wordcount'] = test['wordcount'].dict_trim_by_keys(graphlab.text_analytics.stopwords(), exclude=True)\n",
    "\n",
    "test['wordcount'] = test['wordcount'].dict_trim_by_values(2)\n"
   ]
  },
  {
   "cell_type": "code",
   "execution_count": null,
   "metadata": {
    "collapsed": false
   },
   "outputs": [],
   "source": [
    "#classifying and evauating the results\n",
    "\n",
    "predictions = logistic_classifier_model.classify(test)\n",
    "results = logistic_classifier_model.evaluate(test)"
   ]
  },
  {
   "cell_type": "code",
   "execution_count": null,
   "metadata": {
    "collapsed": false
   },
   "outputs": [],
   "source": [
    "graphlab.canvas.set_target('ipynb') #setting up visualisation \n",
    "logistic_classifier_model.show(view='Evaluation')#evaluating the model on test set"
   ]
  },
  {
   "cell_type": "code",
   "execution_count": null,
   "metadata": {
    "collapsed": true
   },
   "outputs": [],
   "source": []
  }
 ],
 "metadata": {
  "kernelspec": {
   "display_name": "Python 2",
   "language": "python",
   "name": "python2"
  },
  "language_info": {
   "codemirror_mode": {
    "name": "ipython",
    "version": 2
   },
   "file_extension": ".py",
   "mimetype": "text/x-python",
   "name": "python",
   "nbconvert_exporter": "python",
   "pygments_lexer": "ipython2",
   "version": "2.7.11"
  }
 },
 "nbformat": 4,
 "nbformat_minor": 0
}
